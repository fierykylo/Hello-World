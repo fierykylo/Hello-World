{
 "cells": [
  {
   "cell_type": "markdown",
   "id": "368e25c5-d820-472f-8299-f6cb5b22835d",
   "metadata": {},
   "source": [
    "# Data Science Tools and Ecosystem"
   ]
  },
  {
   "cell_type": "markdown",
   "id": "00234d7f-98b6-4b94-b2c2-6adf284756b4",
   "metadata": {},
   "source": [
    "In this notebook, Data Science Tools and Ecosystem are summarized."
   ]
  },
  {
   "cell_type": "markdown",
   "id": "a35e891a-20fb-47a4-8ae5-ca716dfd5f5e",
   "metadata": {},
   "source": [
    "**Objectives** :\n",
    "- To learn about popular data science languages\n",
    "- To learn about some common libraries used by Data scientists\n",
    "- What are some open source data science tools\n",
    "- demonstrating some arithmetic expressions in python\n",
    "- usage of markdown cells "
   ]
  },
  {
   "cell_type": "markdown",
   "id": "50f885cc-de2a-4995-99f6-34b7680eb2b0",
   "metadata": {},
   "source": [
    "Some of the popular languages that Data Scientists use are:\n",
    "1. Python\n",
    "2. R\n",
    "3. SQL\n",
    "4. Julia"
   ]
  },
  {
   "cell_type": "markdown",
   "id": "1b938450-1388-4760-9ed8-c8e11476c39f",
   "metadata": {},
   "source": [
    "Some of the commonly used libraries used by Data Scientists include:\n",
    "1. Numpy\n",
    "2. Pandas\n",
    "3. Scikit-learn\n",
    "4. Matplotlib"
   ]
  },
  {
   "cell_type": "markdown",
   "id": "e403b6cd-1215-43e4-aae9-0b8e436192c7",
   "metadata": {},
   "source": [
    "| Data Science Tools |\n",
    "| ------------------ |\n",
    "| Jupyter Notebook |\n",
    "| RStudio |\n",
    "| Apache Zeppelin |"
   ]
  },
  {
   "cell_type": "markdown",
   "id": "86e74c41-7b0a-4793-b0a6-6f4fd1a5e90e",
   "metadata": {},
   "source": [
    "### Below are a few examples of evaluating arithmetic expressions in Python.\n",
    "2 + 2\n",
    "\n"
   ]
  },
  {
   "cell_type": "code",
   "execution_count": 14,
   "id": "aed85fca-fd52-4bfd-bc97-361f519ca800",
   "metadata": {},
   "outputs": [
    {
     "data": {
      "text/html": [
       "17"
      ],
      "text/latex": [
       "17"
      ],
      "text/markdown": [
       "17"
      ],
      "text/plain": [
       "[1] 17"
      ]
     },
     "metadata": {},
     "output_type": "display_data"
    }
   ],
   "source": [
    "# This a simple arithmetic expression to mutiply then add integers\n",
    "(3 * 5) + 2"
   ]
  },
  {
   "cell_type": "code",
   "execution_count": 15,
   "id": "e162504c-9350-430f-8810-36bb67e48320",
   "metadata": {},
   "outputs": [
    {
     "name": "stdout",
     "output_type": "stream",
     "text": [
      "[1] 3.333333\n"
     ]
    }
   ],
   "source": [
    "# this code will convert 200 minutes to hours by diving by 60.\n",
    "hours = (200 / 60 )\n",
    "print(hours)"
   ]
  },
  {
   "cell_type": "markdown",
   "id": "84dcc908-8fa3-479a-a5f3-4a7aaede7940",
   "metadata": {},
   "source": [
    "## Author \n",
    "Aarush Dubey"
   ]
  }
 ],
 "metadata": {
  "kernelspec": {
   "display_name": "R",
   "language": "R",
   "name": "ir"
  },
  "language_info": {
   "codemirror_mode": "r",
   "file_extension": ".r",
   "mimetype": "text/x-r-source",
   "name": "R",
   "pygments_lexer": "r",
   "version": "3.6.1"
  }
 },
 "nbformat": 4,
 "nbformat_minor": 5
}
